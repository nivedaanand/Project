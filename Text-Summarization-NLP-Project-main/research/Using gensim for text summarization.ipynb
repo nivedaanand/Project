{
 "cells": [
  {
   "cell_type": "code",
   "execution_count": 2,
   "id": "e7056ac0",
   "metadata": {},
   "outputs": [
    {
     "name": "stderr",
     "output_type": "stream",
     "text": [
      "WARNING: Ignoring invalid distribution -illow (c:\\users\\nanandas\\anaconda3\\lib\\site-packages)\n",
      "WARNING: Ignoring invalid distribution -illow (c:\\users\\nanandas\\anaconda3\\lib\\site-packages)\n",
      "WARNING: Retrying (Retry(total=4, connect=None, read=None, redirect=None, status=None)) after connection broken by 'ConnectTimeoutError(<pip._vendor.urllib3.connection.HTTPSConnection object at 0x000001ACADDEFAC0>, 'Connection to pypi.org timed out. (connect timeout=15)')': /simple/gensim/\n",
      "WARNING: Retrying (Retry(total=3, connect=None, read=None, redirect=None, status=None)) after connection broken by 'ConnectTimeoutError(<pip._vendor.urllib3.connection.HTTPSConnection object at 0x000001ACADDF84F0>, 'Connection to pypi.org timed out. (connect timeout=15)')': /simple/gensim/\n",
      "WARNING: Retrying (Retry(total=2, connect=None, read=None, redirect=None, status=None)) after connection broken by 'ConnectTimeoutError(<pip._vendor.urllib3.connection.HTTPSConnection object at 0x000001ACADDF8790>, 'Connection to pypi.org timed out. (connect timeout=15)')': /simple/gensim/\n",
      "WARNING: Retrying (Retry(total=1, connect=None, read=None, redirect=None, status=None)) after connection broken by 'ConnectTimeoutError(<pip._vendor.urllib3.connection.HTTPSConnection object at 0x000001ACADDF88B0>, 'Connection to pypi.org timed out. (connect timeout=15)')': /simple/gensim/\n",
      "WARNING: Retrying (Retry(total=0, connect=None, read=None, redirect=None, status=None)) after connection broken by 'ConnectTimeoutError(<pip._vendor.urllib3.connection.HTTPSConnection object at 0x000001ACADDF8A30>, 'Connection to pypi.org timed out. (connect timeout=15)')': /simple/gensim/\n",
      "ERROR: Could not find a version that satisfies the requirement gensim==3.6.0 (from versions: none)\n",
      "ERROR: No matching distribution found for gensim==3.6.0\n",
      "WARNING: Ignoring invalid distribution -illow (c:\\users\\nanandas\\anaconda3\\lib\\site-packages)\n",
      "WARNING: Ignoring invalid distribution -illow (c:\\users\\nanandas\\anaconda3\\lib\\site-packages)\n",
      "WARNING: Ignoring invalid distribution -illow (c:\\users\\nanandas\\anaconda3\\lib\\site-packages)\n"
     ]
    }
   ],
   "source": [
    "!pip install gensim==3.6.0"
   ]
  },
  {
   "cell_type": "code",
   "execution_count": 16,
   "id": "b10b1f4a",
   "metadata": {},
   "outputs": [
    {
     "name": "stdout",
     "output_type": "stream",
     "text": [
      "Romeo and Juliet is a tragedy written by William Shakespeare early in his career about two young star-crossed lovers whose deaths ultimately reconcile their feuding families.\n"
     ]
    }
   ],
   "source": [
    "from gensim.summarization import summarize\n",
    "\n",
    "# This is your text\n",
    "text = \"\"\"\n",
    "Romeo and Juliet is a tragedy written by William Shakespeare early in his career about two young star-crossed lovers whose deaths ultimately reconcile their feuding families. It was among Shakespeare's most popular plays during his lifetime and along with Hamlet, is one of his most frequently performed plays. Today, the title characters are regarded as archetypal young lovers.\n",
    "\"\"\"\n",
    "\n",
    "# Summarize the text\n",
    "summary = summarize(text, ratio=0.5)\n",
    "\n",
    "\n",
    "print(summary)\n"
   ]
  },
  {
   "cell_type": "code",
   "execution_count": 17,
   "id": "b003b9f6",
   "metadata": {},
   "outputs": [
    {
     "name": "stdout",
     "output_type": "stream",
     "text": [
      "\n",
      "Rouge Scores:\n",
      "[{'rouge-1': {'r': 0.5098039215686274, 'p': 1.0, 'f': 0.6753246708517456}, 'rouge-2': {'r': 0.43103448275862066, 'p': 1.0, 'f': 0.6024096343446074}, 'rouge-l': {'r': 0.5098039215686274, 'p': 1.0, 'f': 0.6753246708517456}}]\n"
     ]
    }
   ],
   "source": [
    "# Evaluation with Rouge\n",
    "rouge = Rouge()\n",
    "\n",
    "scores = rouge.get_scores(summary, text)\n",
    "\n",
    "print(\"\\nRouge Scores:\")\n",
    "print(scores)\n"
   ]
  },
  {
   "cell_type": "code",
   "execution_count": null,
   "id": "5cc98189",
   "metadata": {},
   "outputs": [],
   "source": []
  }
 ],
 "metadata": {
  "kernelspec": {
   "display_name": "Python 3 (ipykernel)",
   "language": "python",
   "name": "python3"
  },
  "language_info": {
   "codemirror_mode": {
    "name": "ipython",
    "version": 3
   },
   "file_extension": ".py",
   "mimetype": "text/x-python",
   "name": "python",
   "nbconvert_exporter": "python",
   "pygments_lexer": "ipython3",
   "version": "3.8.16"
  }
 },
 "nbformat": 4,
 "nbformat_minor": 5
}
